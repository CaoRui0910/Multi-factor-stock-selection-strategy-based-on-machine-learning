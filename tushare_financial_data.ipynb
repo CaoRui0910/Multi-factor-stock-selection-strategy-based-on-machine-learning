{
 "cells": [
  {
   "cell_type": "markdown",
   "metadata": {},
   "source": [
    "Factor data download -- Financial reporting factor\n",
    "\n",
    "Data source: TuShare\n",
    "\n",
    "Period: 12/31/1999 - 12/31/2021\n",
    "\n",
    "Sample frequency: monthly, quarterly\n",
    "    \n",
    "Data: fina_indicator & float type data in “财报指标.csv”"
   ]
  },
  {
   "cell_type": "code",
   "execution_count": 2,
   "metadata": {},
   "outputs": [
    {
     "name": "stdout",
     "output_type": "stream",
     "text": [
      "Collecting tushare\n",
      "\u001b[?25l  Downloading https://files.pythonhosted.org/packages/84/c8/944262440b230d2338398885d1155c7395be61a2a5ac895b3c75c4d17972/tushare-1.2.71-py3-none-any.whl (131kB)\n",
      "\u001b[K     |████████████████████████████████| 133kB 267kB/s eta 0:00:01\n",
      "\u001b[?25hCollecting websocket-client>=0.57.0 (from tushare)\n",
      "\u001b[?25l  Downloading https://files.pythonhosted.org/packages/55/44/030ea47390896c8d6dc9995c8e9a4c5df3a161cd45416d88119036c73eda/websocket_client-1.2.1-py2.py3-none-any.whl (52kB)\n",
      "\u001b[K     |████████████████████████████████| 61kB 248kB/s eta 0:00:01\n",
      "\u001b[?25hCollecting bs4 (from tushare)\n",
      "  Downloading https://files.pythonhosted.org/packages/10/ed/7e8b97591f6f456174139ec089c769f89a94a1a4025fe967691de971f314/bs4-0.0.1.tar.gz\n",
      "Requirement already satisfied: lxml in /Users/cr/opt/anaconda3/lib/python3.7/site-packages (from tushare) (4.4.1)\n",
      "Requirement already satisfied: pandas in /Users/cr/opt/anaconda3/lib/python3.7/site-packages (from tushare) (0.25.1)\n",
      "Requirement already satisfied: requests in /Users/cr/opt/anaconda3/lib/python3.7/site-packages (from tushare) (2.22.0)\n",
      "Collecting simplejson (from tushare)\n",
      "\u001b[?25l  Downloading https://files.pythonhosted.org/packages/b2/22/fdde0c86995cc49480e60c62d3344be3a7c0af0c4d4b0d203a39ee4490a3/simplejson-3.17.5-cp37-cp37m-macosx_10_9_x86_64.whl (74kB)\n",
      "\u001b[K     |████████████████████████████████| 81kB 695kB/s eta 0:00:01\n",
      "\u001b[?25hRequirement already satisfied: beautifulsoup4 in /Users/cr/opt/anaconda3/lib/python3.7/site-packages (from bs4->tushare) (4.8.0)\n",
      "Requirement already satisfied: python-dateutil>=2.6.1 in /Users/cr/opt/anaconda3/lib/python3.7/site-packages (from pandas->tushare) (2.8.0)\n",
      "Requirement already satisfied: pytz>=2017.2 in /Users/cr/opt/anaconda3/lib/python3.7/site-packages (from pandas->tushare) (2019.3)\n",
      "Requirement already satisfied: numpy>=1.13.3 in /Users/cr/opt/anaconda3/lib/python3.7/site-packages (from pandas->tushare) (1.19.5)\n",
      "Requirement already satisfied: urllib3!=1.25.0,!=1.25.1,<1.26,>=1.21.1 in /Users/cr/opt/anaconda3/lib/python3.7/site-packages (from requests->tushare) (1.24.2)\n",
      "Requirement already satisfied: certifi>=2017.4.17 in /Users/cr/opt/anaconda3/lib/python3.7/site-packages (from requests->tushare) (2019.9.11)\n",
      "Requirement already satisfied: chardet<3.1.0,>=3.0.2 in /Users/cr/opt/anaconda3/lib/python3.7/site-packages (from requests->tushare) (3.0.4)\n",
      "Requirement already satisfied: idna<2.9,>=2.5 in /Users/cr/opt/anaconda3/lib/python3.7/site-packages (from requests->tushare) (2.8)\n",
      "Requirement already satisfied: soupsieve>=1.2 in /Users/cr/opt/anaconda3/lib/python3.7/site-packages (from beautifulsoup4->bs4->tushare) (1.9.3)\n",
      "Requirement already satisfied: six>=1.5 in /Users/cr/opt/anaconda3/lib/python3.7/site-packages (from python-dateutil>=2.6.1->pandas->tushare) (1.15.0)\n",
      "Building wheels for collected packages: bs4\n",
      "  Building wheel for bs4 (setup.py) ... \u001b[?25ldone\n",
      "\u001b[?25h  Created wheel for bs4: filename=bs4-0.0.1-cp37-none-any.whl size=1273 sha256=9e55e0394bb79b6f64d497fe4ee975f4993b027ca38fca72610ec0b3bcfc4afc\n",
      "  Stored in directory: /Users/cr/Library/Caches/pip/wheels/a0/b0/b2/4f80b9456b87abedbc0bf2d52235414c3467d8889be38dd472\n",
      "Successfully built bs4\n",
      "Installing collected packages: websocket-client, bs4, simplejson, tushare\n",
      "Successfully installed bs4-0.0.1 simplejson-3.17.5 tushare-1.2.71 websocket-client-1.2.1\n",
      "Note: you may need to restart the kernel to use updated packages.\n"
     ]
    }
   ],
   "source": [
    "pip install tushare"
   ]
  },
  {
   "cell_type": "code",
   "execution_count": 3,
   "metadata": {},
   "outputs": [
    {
     "name": "stdout",
     "output_type": "stream",
     "text": [
      "Requirement already satisfied: tqdm in /Users/cr/opt/anaconda3/lib/python3.7/site-packages (4.36.1)\n",
      "Note: you may need to restart the kernel to use updated packages.\n"
     ]
    }
   ],
   "source": [
    "pip install tqdm"
   ]
  },
  {
   "cell_type": "code",
   "execution_count": 1,
   "metadata": {},
   "outputs": [],
   "source": [
    "import time\n",
    "import pandas as pd\n",
    "import tushare as ts\n",
    "from tqdm import tqdm\n",
    "pro = ts.pro_api(\"eb13b3bfd2bd07fd9eb40234f19941c73f230e1e98cc212b8cd407c7\")\n",
    "\n",
    "data_l = pro.stock_basic(exchange='', list_status='L', \n",
    "                         fields='ts_code,list_status,name,area,industry,list_date,delist_date,is_hs')\n",
    "data_d = pro.stock_basic(exchange='', list_status='D', \n",
    "                         fields='ts_code,list_status,name,area,industry,list_date,delist_date,is_hs')\n",
    "data_p = pro.stock_basic(exchange='', list_status='P', \n",
    "                         fields='ts_code,list_status,name,area,industry,list_date,delist_date,is_hs')\n",
    "\n",
    "basic_data = pd.concat([data_l,data_d,data_p])\n",
    "codelist = list(basic_data['ts_code'])"
   ]
  },
  {
   "cell_type": "markdown",
   "metadata": {},
   "source": [
    "# 读取财报因子"
   ]
  },
  {
   "cell_type": "code",
   "execution_count": 2,
   "metadata": {},
   "outputs": [],
   "source": [
    "file = '/Users/cr/Downloads/undergraduate time/大四上/FIN 4998/paper/code/data & data code/'\n",
    "fdf = pd.read_csv(file+'财报指标.csv',sep=',')\n",
    "type_list = ['fina_indicator']"
   ]
  },
  {
   "cell_type": "code",
   "execution_count": null,
   "metadata": {},
   "outputs": [],
   "source": [
    "data = pd.DataFrame()\n",
    "for sheet_type in type_list:\n",
    "    f = list(fdf.query(f'表格类型==\"{sheet_type}\"')['名称'])\n",
    "    for i in ['report_type','comp_type','f_ann_date']:\n",
    "        try:\n",
    "            f.remove(i)\n",
    "        except:\n",
    "            pass\n",
    "    f = ','.join(f)\n",
    "    fdata = []\n",
    "    \n",
    "    for c in tqdm(codelist):\n",
    "        temp = pro.query(sheet_type, ts_code=c, fields=f,\n",
    "                             start_date='19991231', end_date='20211231')\n",
    "\n",
    "        temp = temp.set_index(['ts_code','ann_date','end_date'])\n",
    "  \n",
    "        '''\n",
    "        删除重复索引，且update_flag为0的，根据tushare描述，为1的是修改过的。就用修改过的吧。\n",
    "        counter是计数，dict是创建了个对索引的计数字典。d.items()是字典中所有键值对\n",
    "        '''\n",
    "\n",
    "        from collections import Counter\n",
    "        d = dict(Counter(temp.index))\n",
    "        t1 = temp.loc[[key for key,value in d.items() if value>1],:]\n",
    "        t1 = t1.fillna(method='ffill')\n",
    "        t1 = t1.fillna(method='bfill')\n",
    "        t1 = t1.loc[~t1.index.duplicated(keep='first')]\n",
    "        t0 = temp.loc[[key for key,value in d.items() if value==1],:]\n",
    "        temp = pd.concat([t0,t1],axis=0)\n",
    "        \n",
    "        \n",
    "        temp = temp.reset_index(['ann_date'])\n",
    "        temp = temp.drop(labels=['update_flag'],axis=1)  #删除4个无用的列\n",
    "        d = dict(Counter(temp.index))\n",
    "        t1 = temp.loc[[key for key,value in d.items() if value>1],:]\n",
    "        t1 = t1.sort_values(by='ann_date')  #按时间先后顺序排\n",
    "        t1 = t1.fillna(method='ffill')  #前向填充，即如果同一个财报，后面的数据缺失，用前面的数据填充\n",
    "        try:\n",
    "            t0 = temp.loc[[key for key,value in d.items() if value==1],:]\n",
    "            temp = pd.concat([t0,t1],axis=0)\n",
    "        except:\n",
    "            temp = t1.copy()\n",
    "        temp = temp.reset_index(['ts_code','end_date'])\n",
    "        \n",
    "        \n",
    "        col = temp.columns\n",
    "        temp = temp.values.tolist()\n",
    "        fdata.extend(temp)\n",
    "        time.sleep(0.2)  \n",
    "        #即每秒5个，按照每分钟200次上限。要低于3.33it/s，sleep上限最大为大约0.3,这个目测0.15就稳定再3it/s以下了。\n",
    "    fdata = pd.DataFrame(fdata,columns=col)\n",
    "    fdata = fdata.set_index(['ts_code','ann_date','end_date'])\n",
    "\n",
    "    data = pd.concat([data,fdata],axis=1)"
   ]
  },
  {
   "cell_type": "code",
   "execution_count": 7,
   "metadata": {},
   "outputs": [],
   "source": [
    "import pickle \n",
    "pickle.dump(data,open(file+'fina_data','wb'))"
   ]
  }
 ],
 "metadata": {
  "kernelspec": {
   "display_name": "Python 3",
   "language": "python",
   "name": "python3"
  },
  "language_info": {
   "codemirror_mode": {
    "name": "ipython",
    "version": 3
   },
   "file_extension": ".py",
   "mimetype": "text/x-python",
   "name": "python",
   "nbconvert_exporter": "python",
   "pygments_lexer": "ipython3",
   "version": "3.7.4"
  }
 },
 "nbformat": 4,
 "nbformat_minor": 5
}
