{
 "cells": [
  {
   "cell_type": "markdown",
   "metadata": {},
   "source": [
    "Stock trading data: date, code, open, high, low, close, preclose, volume, amount, adjustflag, turn,\n",
    "     tradestatus, pctChg, peTTM, pbMRQ, psTTM, pcfNcfTTM, isST\n",
    "\n",
    "Data source: baostock\n",
    "    \n",
    "Sample frequency: daily\n",
    "    \n",
    "Company scope: all A-share listed companies in China, including delisted companies\n"
   ]
  },
  {
   "cell_type": "code",
   "execution_count": 1,
   "metadata": {},
   "outputs": [
    {
     "name": "stdout",
     "output_type": "stream",
     "text": [
      "Collecting baostock\n",
      "\u001b[?25l  Downloading https://files.pythonhosted.org/packages/43/e2/b367c78db42bafcf752442b7d582ba2a724286313d9f126c5fee06064fb2/baostock-0.8.8-py3-none-any.whl (55kB)\n",
      "\u001b[K     |████████████████████████████████| 61kB 218kB/s eta 0:00:01\n",
      "\u001b[?25hRequirement already satisfied: pandas>=0.18.0 in /Users/cr/opt/anaconda3/lib/python3.7/site-packages (from baostock) (0.25.1)\n",
      "Requirement already satisfied: python-dateutil>=2.6.1 in /Users/cr/opt/anaconda3/lib/python3.7/site-packages (from pandas>=0.18.0->baostock) (2.8.0)\n",
      "Requirement already satisfied: pytz>=2017.2 in /Users/cr/opt/anaconda3/lib/python3.7/site-packages (from pandas>=0.18.0->baostock) (2019.3)\n",
      "Requirement already satisfied: numpy>=1.13.3 in /Users/cr/opt/anaconda3/lib/python3.7/site-packages (from pandas>=0.18.0->baostock) (1.19.5)\n",
      "Requirement already satisfied: six>=1.5 in /Users/cr/opt/anaconda3/lib/python3.7/site-packages (from python-dateutil>=2.6.1->pandas>=0.18.0->baostock) (1.15.0)\n",
      "Installing collected packages: baostock\n",
      "Successfully installed baostock-0.8.8\n",
      "Note: you may need to restart the kernel to use updated packages.\n"
     ]
    }
   ],
   "source": [
    "pip install baostock"
   ]
  },
  {
   "cell_type": "code",
   "execution_count": 2,
   "metadata": {},
   "outputs": [
    {
     "name": "stdout",
     "output_type": "stream",
     "text": [
      "Collecting os\n",
      "\u001b[31m  ERROR: Could not find a version that satisfies the requirement os (from versions: none)\u001b[0m\n",
      "\u001b[31mERROR: No matching distribution found for os\u001b[0m\n",
      "Note: you may need to restart the kernel to use updated packages.\n"
     ]
    }
   ],
   "source": [
    "pip install os"
   ]
  },
  {
   "cell_type": "code",
   "execution_count": 3,
   "metadata": {},
   "outputs": [
    {
     "name": "stdout",
     "output_type": "stream",
     "text": [
      "login success!\n"
     ]
    }
   ],
   "source": [
    "today = \"2021-10-20\"  \n",
    "\n",
    "import pandas as pd\n",
    "import tushare as ts\n",
    "import os\n",
    "import numpy as np\n",
    "from tqdm import tqdm\n",
    "import time\n",
    "import pickle\n",
    "import baostock as bs\n",
    "lg = bs.login()\n",
    "rs = bs.query_stock_basic()\n",
    "rs = rs.get_data()\n",
    "code_list = list(rs[rs[\"type\"]==\"1\"][\"code\"])\n",
    "\n"
   ]
  },
  {
   "cell_type": "code",
   "execution_count": 4,
   "metadata": {},
   "outputs": [],
   "source": [
    "#获取数据\n",
    "class download_trade_data(object):\n",
    "    def __init__(self,code,today,file):\n",
    "        self.code = code\n",
    "        self.today = today\n",
    "        self.file = file\n",
    "        \n",
    "    def get_data(self,rs):\n",
    "        data_list = []\n",
    "        while (rs.error_code == '0') & rs.next():\n",
    "            # 获取一条记录，将记录合并在一起\n",
    "            data_list.append(rs.get_row_data())\n",
    "        result = pd.DataFrame(data_list, columns=rs.fields)\n",
    "        return result\n",
    "    \n",
    "    def get_ipodate(self):\n",
    "        try:\n",
    "            rs = bs.query_stock_basic()\n",
    "            result = self.get_data(rs)\n",
    "            date = result[\"ipoDate\"].values[0]\n",
    "        except:\n",
    "            date = \"\"\n",
    "        return date\n",
    "    \n",
    "    def get_history_data(self):\n",
    "        date = self.get_ipodate()\n",
    "        rs = bs.query_history_k_data_plus(self.code,\n",
    "                                          \"date,code,open,high,low,close,preclose,volume,amount,adjustflag,turn,tradestatus,pctChg,peTTM,pbMRQ,psTTM,pcfNcfTTM,isST\",\n",
    "                                          start_date=date, \n",
    "                                          end_date=self.today,\n",
    "                                          frequency=\"d\", \n",
    "                                          adjustflag=\"3\")  #1后复权数据 2前复权 3不复权\n",
    "        data = self.get_data(rs)\n",
    "        \n",
    "        adclose = bs.query_history_k_data_plus(self.code,\n",
    "                                  \"close\",\n",
    "                                  start_date=date, \n",
    "                                  end_date=self.today,\n",
    "                                  frequency=\"d\", \n",
    "                                  adjustflag=\"1\")  #1后复权数据 2前复权 3不复权\n",
    "        addata = self.get_data(adclose)\n",
    "        addata.columns = [\"adclose\"]\n",
    "        data = pd.concat([data,addata],axis=1)\n",
    "         \n",
    "        data.to_csv(self.file+self.code+\".csv\")\n",
    "        return\n",
    "    \n",
    "    @classmethod\n",
    "    def check(cls,path):\n",
    "        data_list = os.listdir(path)\n",
    "        data_list = [x.split(\".csv\")[0] for x in data_list]\n",
    "        r = list(set(code_list) - set(data_list))\n",
    "        pr = \"/\".join(r)\n",
    "        return r"
   ]
  },
  {
   "cell_type": "code",
   "execution_count": null,
   "metadata": {},
   "outputs": [
    {
     "name": "stderr",
     "output_type": "stream",
     "text": [
      " 62%|██████▏   | 2884/4672 [2:15:18<39:34,  1.33s/it]     "
     ]
    }
   ],
   "source": [
    "file=\"/Users/cr/Downloads/undergraduate time/大四上/FIN 4998/paper/code/data & data code/\"\n",
    "\n",
    "if __name__ == '__main__':\n",
    "    for code in tqdm(code_list):\n",
    "        down = download_trade_data(code,today,file)\n",
    "        down.get_history_data()\n",
    "#cost about 20 mins"
   ]
  },
  {
   "cell_type": "code",
   "execution_count": 6,
   "metadata": {},
   "outputs": [
    {
     "name": "stdout",
     "output_type": "stream",
     "text": [
      "logout success!\n"
     ]
    },
    {
     "data": {
      "text/plain": [
       "[]"
      ]
     },
     "execution_count": 6,
     "metadata": {},
     "output_type": "execute_result"
    }
   ],
   "source": [
    "bs.logout()\n",
    "r = download_trade_data.check(file)\n",
    "r"
   ]
  },
  {
   "cell_type": "code",
   "execution_count": 7,
   "metadata": {},
   "outputs": [
    {
     "name": "stderr",
     "output_type": "stream",
     "text": [
      "100%|██████████| 4649/4649 [00:57<00:00, 80.78it/s] \n"
     ]
    }
   ],
   "source": [
    "oslist = os.listdir(file)\n",
    "data = []\n",
    "for i in tqdm(oslist):\n",
    "    s = pd.read_csv(file+i,index_col=0)\n",
    "    temp = s.values.tolist()\n",
    "    col = s.columns\n",
    "    data.extend(temp)\n",
    "data = pd.DataFrame(data,columns=col)"
   ]
  },
  {
   "cell_type": "code",
   "execution_count": 9,
   "metadata": {},
   "outputs": [],
   "source": [
    "def datefun(x):\n",
    "    return ''.join(x.split('-'))\n",
    "\n",
    "def codefun(x):\n",
    "    f,b = x.split('.')\n",
    "    return b + '.' + f.upper()\n",
    "\n",
    "data['date'] = data['date'].apply(lambda x:datefun(x))\n",
    "data['code'] = data['code'].apply(lambda x:codefun(x))\n",
    "data = data.set_index(['code','date'])"
   ]
  },
  {
   "cell_type": "code",
   "execution_count": 60,
   "metadata": {},
   "outputs": [],
   "source": [
    "import pickle\n",
    "spath = '/Users/cr/Downloads/undergraduate time/大四上/FIN 4998/paper/code/data & data code/'\n",
    "pickle.dump(data,open(spath+'day','wb'))"
   ]
  },
  {
   "cell_type": "code",
   "execution_count": null,
   "metadata": {},
   "outputs": [],
   "source": []
  }
 ],
 "metadata": {
  "kernelspec": {
   "display_name": "Python 3",
   "language": "python",
   "name": "python3"
  },
  "language_info": {
   "codemirror_mode": {
    "name": "ipython",
    "version": 3
   },
   "file_extension": ".py",
   "mimetype": "text/x-python",
   "name": "python",
   "nbconvert_exporter": "python",
   "pygments_lexer": "ipython3",
   "version": "3.7.4"
  }
 },
 "nbformat": 4,
 "nbformat_minor": 5
}
